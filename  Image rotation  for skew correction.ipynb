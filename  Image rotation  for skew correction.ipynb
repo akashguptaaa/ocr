{
 "cells": [
  {
   "cell_type": "code",
   "execution_count": 1,
   "metadata": {},
   "outputs": [],
   "source": [
    "import numpy as np\n",
    "import cv2\n",
    "import pytesseract\n",
    "\n"
   ]
  },
  {
   "cell_type": "code",
   "execution_count": 2,
   "metadata": {},
   "outputs": [
    {
     "name": "stdout",
     "output_type": "stream",
     "text": [
      "[INFO] angle: -28.009\n"
     ]
    },
    {
     "data": {
      "text/plain": [
       "-1"
      ]
     },
     "execution_count": 2,
     "metadata": {},
     "output_type": "execute_result"
    }
   ],
   "source": [
    "#data = \"neg_28.png\"\n",
    "img = cv2.imread(\"neg_28.png\")\n",
    " \n",
    "gray = cv2.cvtColor(img, cv2.COLOR_BGR2GRAY)\n",
    "gray = cv2.bitwise_not(gray)\n",
    "thresh = cv2.threshold(gray, 0, 255, cv2.THRESH_BINARY | cv2.THRESH_OTSU)[1]\n",
    "img_contours = cv2.findContours(thresh, cv2.RETR_TREE, cv2.CHAIN_APPROX_SIMPLE)[-2]\n",
    "img_contours = sorted(img_contours, key=cv2.contourArea)\n",
    "for i in img_contours:\n",
    " \n",
    "    if cv2.contourArea(i) > 100:\n",
    " \n",
    "        break\n",
    "    \n",
    "mask = np.zeros(img.shape[:2], np.uint8)\n",
    "cv2.drawContours(mask, [i],-1, 255, -1)\n",
    "#new_img = cv2.bitwise_and(img, img, mask=mask)\n",
    "\n",
    "\n",
    "\n",
    "#print(img.shape[0:2])\n",
    "#cv2.getRotationMatrix2D(center, angle, scale)\n",
    "coords = np.column_stack(np.where(thresh > 0))\n",
    "angle = cv2.minAreaRect(coords)[-1]\n",
    "if angle < -45:\n",
    "    angle = -(90 + angle)\n",
    "\n",
    "# otherwise, just take the inverse of the angle to make\n",
    "# it positive\n",
    "else:\n",
    "    angle = -angle\n",
    "\n",
    "height, width = img.shape[:2]\n",
    "rotationMatrix = cv2.getRotationMatrix2D((width/2, height/2),angle, 1.0)\n",
    "rotatedImage = cv2.warpAffine(img, rotationMatrix, (width, height),flags=cv2.INTER_CUBIC, borderMode=cv2.BORDER_REPLICATE)\n",
    "cv2.putText(rotatedImage, \"Angle: {:.2f} degrees\".format(angle),(10, 30), cv2.FONT_HERSHEY_SIMPLEX, 0.7, (0, 0, 255), 2)\n",
    "\n",
    "startRow = int(height*.15)\n",
    " \n",
    "startCol = int(width*.15)\n",
    " \n",
    "endRow = int(height*.85)\n",
    " \n",
    "endCol = int(width*.85)\n",
    "\n",
    "croppedImage = rotatedImage[startRow:endRow, startCol:endCol]\n",
    "\n",
    "print(\"[INFO] angle: {:.3f}\".format(angle))\n",
    "cv2.imshow('Original Image', img)\n",
    "cv2.imshow('Rotated Image', rotatedImage)\n",
    "cv2.imshow('Cropped Image', croppedImage)\n",
    "#cv2.imshow(\"Image with background removed\", new_img)\n",
    "\n",
    "cv2.waitKey(0)\n",
    "\n",
    "\n",
    "\n",
    "\n",
    "\n",
    "\n",
    "\n"
   ]
  },
  {
   "cell_type": "code",
   "execution_count": null,
   "metadata": {},
   "outputs": [],
   "source": []
  },
  {
   "cell_type": "code",
   "execution_count": 3,
   "metadata": {},
   "outputs": [
    {
     "data": {
      "text/plain": [
       "-1"
      ]
     },
     "execution_count": 3,
     "metadata": {},
     "output_type": "execute_result"
    }
   ],
   "source": [
    "cv2.waitKey(0)\n"
   ]
  },
  {
   "cell_type": "code",
   "execution_count": null,
   "metadata": {},
   "outputs": [],
   "source": []
  }
 ],
 "metadata": {
  "kernelspec": {
   "display_name": "Python 3",
   "language": "python",
   "name": "python3"
  },
  "language_info": {
   "codemirror_mode": {
    "name": "ipython",
    "version": 3
   },
   "file_extension": ".py",
   "mimetype": "text/x-python",
   "name": "python",
   "nbconvert_exporter": "python",
   "pygments_lexer": "ipython3",
   "version": "3.7.1"
  }
 },
 "nbformat": 4,
 "nbformat_minor": 2
}
